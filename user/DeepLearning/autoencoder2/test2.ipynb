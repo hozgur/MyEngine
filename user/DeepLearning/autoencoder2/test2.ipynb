{
 "cells": [
  {
   "cell_type": "code",
   "execution_count": 1,
   "metadata": {},
   "outputs": [
    {
     "name": "stdout",
     "output_type": "stream",
     "text": [
      "cuda\n"
     ]
    }
   ],
   "source": [
    "import torch\n",
    "import torch.nn as nn\n",
    "import torch.nn.functional as F\n",
    "import torch.optim as optim\n",
    "import torchvision\n",
    "import numpy as np\n",
    "from torchvision import datasets, transforms\n",
    "import time\n",
    "from PIL import Image\n",
    "\n",
    "device = torch.device(\"cuda\" if torch.cuda.is_available() else \"cpu\")\n",
    "#device = torch.device(\"cpu\")\n",
    "print(device)"
   ]
  },
  {
   "cell_type": "code",
   "execution_count": 44,
   "metadata": {},
   "outputs": [],
   "source": [
    "\n",
    "class CNN(nn.Module):\n",
    "    def __init__(self, inChannels=3, nF=[16,32,64,128,256,512]):\n",
    "        super(CNN, self).__init__()\n",
    "\n",
    "        self.encoder = nn.Sequential(\n",
    "            nn.Conv2d(in_channels=inChannels, out_channels=nF[0], kernel_size=(3,3), stride=1),\n",
    "            nn.ReLU(),\n",
    "            nn.MaxPool2d(kernel_size=2, stride=2, padding=0),\n",
    "            nn.Conv2d(in_channels=nF[0], out_channels=nF[1], kernel_size=(3,3), stride=1),\n",
    "            nn.ReLU(),\n",
    "            nn.MaxPool2d(kernel_size=2, stride=2, padding=0),\n",
    "            nn.Conv2d(in_channels=nF[1], out_channels=nF[2], kernel_size=(3,3), stride=1),\n",
    "            nn.ReLU(),\n",
    "            nn.MaxPool2d(kernel_size=2, stride=2, padding=0),\n",
    "            nn.Conv2d(in_channels=nF[2], out_channels=nF[3], kernel_size=(3,3), stride=1),\n",
    "            nn.ReLU(),\n",
    "            nn.MaxPool2d(kernel_size=2, stride=2, padding=0),\n",
    "            nn.Conv2d(in_channels=nF[3], out_channels=nF[4], kernel_size=(3,3), stride=1),\n",
    "            nn.ReLU(),\n",
    "        )\n",
    "        self.flatten    = nn.Flatten()\n",
    "        self.bottleneck = nn.Sequential(\n",
    "            nn.Linear(in_features=nF[4]*4*4, out_features=nF[4]),\n",
    "            nn.ReLU(),            \n",
    "        )\n",
    "        self.unflatten  = nn.Unflatten(dim=1, unflattened_size=(nF[4],1,1))\n",
    "        self.decoder = nn.Sequential(            \n",
    "            nn.UpsamplingBilinear2d(scale_factor=2),\n",
    "            nn.ConvTranspose2d(in_channels=nF[4], out_channels=nF[3], kernel_size=(3,3), stride=1),\n",
    "            nn.ReLU(),\n",
    "            nn.UpsamplingBilinear2d(scale_factor=2),\n",
    "            nn.ConvTranspose2d(in_channels=nF[3], out_channels=nF[2], kernel_size=(3,3), stride=1),\n",
    "            nn.ReLU(),\n",
    "            nn.UpsamplingBilinear2d(scale_factor=2),\n",
    "            nn.ConvTranspose2d(in_channels=nF[2], out_channels=nF[1], kernel_size=(3,3), stride=1),\n",
    "            nn.ReLU(),\n",
    "            nn.UpsamplingBilinear2d(scale_factor=2),\n",
    "            nn.ConvTranspose2d(in_channels=nF[1], out_channels=nF[0], kernel_size=(3,3), stride=1),\n",
    "            nn.ReLU(),\n",
    "            nn.UpsamplingBilinear2d(scale_factor=2),\n",
    "            nn.ConvTranspose2d(in_channels=nF[0], out_channels=inChannels, kernel_size=(3,3), stride=1),\n",
    "            nn.ReLU(),\n",
    "            nn.ConvTranspose2d(in_channels=inChannels, out_channels=inChannels, kernel_size=(3,3), stride=1),\n",
    "            nn.ReLU(),\n",
    "        )\n",
    "    \n",
    "    def forward(self, x):\n",
    "        encoder    = self.encoder(x)\n",
    "        flatten    = self.flatten(encoder)\n",
    "        bottleneck = self.bottleneck(flatten)\n",
    "        unflatten  = self.unflatten(bottleneck)\n",
    "        decoder    = self.decoder(unflatten)\n",
    "        sigmoid    = nn.Sigmoid()\n",
    "        #output     = sigmoid(decoder)\n",
    "        output     = decoder\n",
    "        return output"
   ]
  },
  {
   "cell_type": "code",
   "execution_count": 46,
   "metadata": {},
   "outputs": [
    {
     "name": "stdout",
     "output_type": "stream",
     "text": [
      "torch.Size([1, 256, 4, 4])\n",
      "torch.Size([1, 4096])\n",
      "torch.Size([1, 256])\n",
      "torch.Size([1, 256, 1, 1])\n",
      "torch.Size([1, 3, 96, 96])\n"
     ]
    }
   ],
   "source": [
    "\n",
    "model = CNN()\n",
    "ary = np.zeros((1,3,128,128),dtype=np.float32)\n",
    "input = torch.Tensor(ary)\n",
    "output = model.encoder(input)\n",
    "print(output.shape)\n",
    "output = model.flatten(output)\n",
    "print(output.shape)\n",
    "output = model.bottleneck(output)\n",
    "print(output.shape)\n",
    "output = model.unflatten(output)\n",
    "print(output.shape)\n",
    "output = model.decoder(output)\n",
    "print(output.shape)\n"
   ]
  }
 ],
 "metadata": {
  "kernelspec": {
   "display_name": "Python 3.10.7 64-bit",
   "language": "python",
   "name": "python3"
  },
  "language_info": {
   "codemirror_mode": {
    "name": "ipython",
    "version": 3
   },
   "file_extension": ".py",
   "mimetype": "text/x-python",
   "name": "python",
   "nbconvert_exporter": "python",
   "pygments_lexer": "ipython3",
   "version": "3.10.7"
  },
  "orig_nbformat": 4,
  "vscode": {
   "interpreter": {
    "hash": "d50220305086dde7714464d39eb812e6992001230edb4d06ec4afb2ffb1c28c6"
   }
  }
 },
 "nbformat": 4,
 "nbformat_minor": 2
}
