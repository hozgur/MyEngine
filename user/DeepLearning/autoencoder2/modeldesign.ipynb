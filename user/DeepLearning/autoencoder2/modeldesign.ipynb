{
 "cells": [
  {
   "cell_type": "code",
   "execution_count": 2,
   "metadata": {},
   "outputs": [
    {
     "name": "stdout",
     "output_type": "stream",
     "text": [
      "cuda\n"
     ]
    }
   ],
   "source": [
    "import torch\n",
    "import torch.nn as nn\n",
    "import torch.nn.functional as F\n",
    "import torch.optim as optim\n",
    "import torchvision\n",
    "import numpy as np\n",
    "from torchvision import datasets, transforms\n",
    "import time\n",
    "from PIL import Image\n",
    "\n",
    "device = torch.device(\"cuda\" if torch.cuda.is_available() else \"cpu\")\n",
    "#device = torch.device(\"cpu\")\n",
    "print(device)"
   ]
  },
  {
   "cell_type": "markdown",
   "metadata": {},
   "source": [
    "Input = 3 * 32 * 32 = 3072 \n",
    "out = 64 * 26 * 26 = 43264\n"
   ]
  },
  {
   "cell_type": "code",
   "execution_count": 7,
   "metadata": {},
   "outputs": [
    {
     "name": "stdout",
     "output_type": "stream",
     "text": [
      "torch.Size([1, 3, 32, 32])\n",
      "torch.Size([1, 16, 30, 30])\n",
      "torch.Size([1, 32, 28, 28])\n",
      "torch.Size([1, 64, 26, 26])\n"
     ]
    }
   ],
   "source": [
    "conv1 = nn.Conv2d(in_channels=3, out_channels=16, kernel_size=(3,3), stride=1)\n",
    "conv2 = nn.Conv2d(in_channels=16, out_channels=32, kernel_size=(3,3), stride=1)\n",
    "conv3 = nn.Conv2d(in_channels=32, out_channels=64, kernel_size=(3,3), stride=1)\n",
    "\n",
    "array = np.zeros((1,3,32,32),dtype=np.float32)\n",
    "array = torch.from_numpy(array)\n",
    "print(array.shape)\n",
    "output = conv1(array)\n",
    "print(output.shape)\n",
    "output = conv2(output)\n",
    "print(output.shape)\n",
    "output = conv3(output)\n",
    "print(output.shape)\n"
   ]
  },
  {
   "cell_type": "code",
   "execution_count": null,
   "metadata": {},
   "outputs": [],
   "source": []
  }
 ],
 "metadata": {
  "kernelspec": {
   "display_name": "Python 3.10.7 64-bit",
   "language": "python",
   "name": "python3"
  },
  "language_info": {
   "codemirror_mode": {
    "name": "ipython",
    "version": 3
   },
   "file_extension": ".py",
   "mimetype": "text/x-python",
   "name": "python",
   "nbconvert_exporter": "python",
   "pygments_lexer": "ipython3",
   "version": "3.10.7"
  },
  "orig_nbformat": 4,
  "vscode": {
   "interpreter": {
    "hash": "d50220305086dde7714464d39eb812e6992001230edb4d06ec4afb2ffb1c28c6"
   }
  }
 },
 "nbformat": 4,
 "nbformat_minor": 2
}
