{
 "cells": [
  {
   "cell_type": "code",
   "execution_count": 1,
   "metadata": {},
   "outputs": [],
   "source": [
    "import torch\n",
    "import torch.nn as nn\n",
    "import torch.nn.functional as F\n",
    "import torch.optim as optim\n",
    "import torchvision\n",
    "from torchvision import datasets, transforms\n",
    "import numpy as np"
   ]
  },
  {
   "cell_type": "code",
   "execution_count": 67,
   "metadata": {},
   "outputs": [
    {
     "name": "stdout",
     "output_type": "stream",
     "text": [
      "torch.Size([4, 4, 3, 3])\n",
      "Parameter containing:\n",
      "tensor([ 0.0793, -0.0175,  0.1168,  0.0509], requires_grad=True)\n",
      "torch.Size([1, 4, 3, 3])\n",
      "tensor([[[ -2.3952,  -2.4920,  -2.3577,  -2.4236],\n",
      "         [ -4.4351,  -4.5318,  -4.3976,  -4.4634],\n",
      "         [  1.5878,   1.4910,   1.6253,   1.5595]],\n",
      "\n",
      "        [[ -8.1680,  -8.2647,  -8.1304,  -8.1963],\n",
      "         [-10.8311, -10.9279, -10.7936, -10.8594],\n",
      "         [ -0.1977,  -0.2945,  -0.1602,  -0.2260]],\n",
      "\n",
      "        [[ -8.4592,  -8.5559,  -8.4217,  -8.4875],\n",
      "         [-11.2857, -11.3825, -11.2482, -11.3141],\n",
      "         [ -4.3031,  -4.3999,  -4.2656,  -4.3315]]],\n",
      "       grad_fn=<TransposeBackward0>)\n"
     ]
    }
   ],
   "source": [
    "outt = np.random.rand(3,3,4).astype(\"uint8\")\n",
    "#print(outt.shape)\n",
    "w = torch.ones(4,4,3,3)\n",
    "inp = torch.randn(1,4, 3, 3 )\n",
    "conv1 = nn.Conv2d(4, 4, 3, 1,1)\n",
    "conv1.weight = torch.nn.parameter.Parameter(w)\n",
    "print (conv1.weight.shape)\n",
    "print(conv1.bias)\n",
    "#inp.transpose()\n",
    "out = conv1(inp)\n",
    "print (out.shape)\n",
    "out = out.squeeze().transpose(0,2)\n",
    "\n",
    "outt[0:3,0:3] = out.detach()\n",
    "print(out)"
   ]
  },
  {
   "cell_type": "code",
   "execution_count": null,
   "metadata": {},
   "outputs": [],
   "source": []
  }
 ],
 "metadata": {
  "kernelspec": {
   "display_name": "Python 3",
   "language": "python",
   "name": "python3"
  },
  "language_info": {
   "codemirror_mode": {
    "name": "ipython",
    "version": 3
   },
   "file_extension": ".py",
   "mimetype": "text/x-python",
   "name": "python",
   "nbconvert_exporter": "python",
   "pygments_lexer": "ipython3",
   "version": "3.8.5"
  }
 },
 "nbformat": 4,
 "nbformat_minor": 4
}
