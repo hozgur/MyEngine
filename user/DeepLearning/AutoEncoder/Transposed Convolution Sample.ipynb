{
 "cells": [
  {
   "cell_type": "code",
   "execution_count": 1,
   "metadata": {},
   "outputs": [],
   "source": [
    "import torch\n",
    "import torch.nn as nn\n",
    "import torch.nn.functional as F\n",
    "import torch.optim as optim\n",
    "import torchvision\n",
    "from torchvision import datasets, transforms"
   ]
  },
  {
   "cell_type": "code",
   "execution_count": 11,
   "metadata": {},
   "outputs": [
    {
     "name": "stdout",
     "output_type": "stream",
     "text": [
      "torch.Size([3, 7, 5, 5])\n"
     ]
    }
   ],
   "source": [
    "inp = torch.randn(3,1, 4, 4)\n",
    "conv1 = nn.Conv2d(1, 5, 3, 1)\n",
    "conv2 = nn.ConvTranspose2d(5, 7, 3, stride=2)\n",
    "out = conv1(inp)\n",
    "out2 = conv2(out)\n",
    "print(out2.size())"
   ]
  },
  {
   "cell_type": "code",
   "execution_count": 37,
   "metadata": {},
   "outputs": [
    {
     "name": "stdout",
     "output_type": "stream",
     "text": [
      "tensor([0, 1, 2, 3, 4, 5, 6, 7, 8])\n",
      "tensor([0, 1, 2, 3, 4, 5, 6, 7, 8])\n",
      "tensor(204)\n",
      "tensor([ 0,  1,  4,  9, 16, 25, 36, 49, 64])\n",
      "tensor([[0],\n",
      "        [1],\n",
      "        [2],\n",
      "        [3],\n",
      "        [4],\n",
      "        [5],\n",
      "        [6],\n",
      "        [7],\n",
      "        [8]])\n",
      "tensor([[ 0,  0,  0,  0,  0,  0,  0,  0,  0],\n",
      "        [ 0,  1,  2,  3,  4,  5,  6,  7,  8],\n",
      "        [ 0,  2,  4,  6,  8, 10, 12, 14, 16],\n",
      "        [ 0,  3,  6,  9, 12, 15, 18, 21, 24],\n",
      "        [ 0,  4,  8, 12, 16, 20, 24, 28, 32],\n",
      "        [ 0,  5, 10, 15, 20, 25, 30, 35, 40],\n",
      "        [ 0,  6, 12, 18, 24, 30, 36, 42, 48],\n",
      "        [ 0,  7, 14, 21, 28, 35, 42, 49, 56],\n",
      "        [ 0,  8, 16, 24, 32, 40, 48, 56, 64]])\n"
     ]
    }
   ],
   "source": [
    "a = torch.arange(9)\n",
    "b = torch.arange(9)\n",
    "c = torch.dot(a,b)\n",
    "print(a)\n",
    "print(b)\n",
    "d = b * a\n",
    "print(c)\n",
    "print(d)\n",
    "e = torch.arange(9).reshape(9,1)\n",
    "f = e * a\n",
    "print(e)\n",
    "print(f)"
   ]
  },
  {
   "cell_type": "code",
   "execution_count": null,
   "metadata": {},
   "outputs": [],
   "source": []
  }
 ],
 "metadata": {
  "kernelspec": {
   "display_name": "Python 3",
   "language": "python",
   "name": "python3"
  },
  "language_info": {
   "codemirror_mode": {
    "name": "ipython",
    "version": 3
   },
   "file_extension": ".py",
   "mimetype": "text/x-python",
   "name": "python",
   "nbconvert_exporter": "python",
   "pygments_lexer": "ipython3",
   "version": "3.8.5"
  }
 },
 "nbformat": 4,
 "nbformat_minor": 4
}
